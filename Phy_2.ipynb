{
  "nbformat": 4,
  "nbformat_minor": 0,
  "metadata": {
    "colab": {
      "provenance": [],
      "authorship_tag": "ABX9TyMwhdZ64QTV9izxg02fKJxr",
      "include_colab_link": true
    },
    "kernelspec": {
      "name": "python3",
      "display_name": "Python 3"
    },
    "language_info": {
      "name": "python"
    }
  },
  "cells": [
    {
      "cell_type": "markdown",
      "metadata": {
        "id": "view-in-github",
        "colab_type": "text"
      },
      "source": [
        "<a href=\"https://colab.research.google.com/github/mehedi2535/Python-Practice/blob/main/Phy_2.ipynb\" target=\"_parent\"><img src=\"https://colab.research.google.com/assets/colab-badge.svg\" alt=\"Open In Colab\"/></a>"
      ]
    },
    {
      "cell_type": "code",
      "execution_count": 1,
      "metadata": {
        "id": "m1YtrytiNrFl",
        "colab": {
          "base_uri": "https://localhost:8080/"
        },
        "outputId": "a10c6936-4c2e-450c-8d6f-e368018c9375"
      },
      "outputs": [
        {
          "output_type": "stream",
          "name": "stdout",
          "text": [
            "Hello, My name is Mehedi Hasan\n"
          ]
        }
      ],
      "source": [
        "print('Hello, My name is Mehedi Hasan')\n"
      ]
    },
    {
      "cell_type": "code",
      "source": [
        "var = 'Mehedi Hasan'\n",
        "print(var)"
      ],
      "metadata": {
        "colab": {
          "base_uri": "https://localhost:8080/"
        },
        "id": "TMhWELsrXEdI",
        "outputId": "0fdeb261-8933-460f-ccfb-00f5d26d7ba7"
      },
      "execution_count": 2,
      "outputs": [
        {
          "output_type": "stream",
          "name": "stdout",
          "text": [
            "Mehedi Hasan\n"
          ]
        }
      ]
    },
    {
      "cell_type": "code",
      "source": [
        "#Variable_name\n",
        "var9 = 100  #Var2 = 100\n",
        "b9var = 100\n",
        "VARSITYID = 'Mehedi'\n",
        "print(VARSITYID)"
      ],
      "metadata": {
        "colab": {
          "base_uri": "https://localhost:8080/"
        },
        "id": "5wD8UukZX3Tb",
        "outputId": "808d1cb3-6126-4799-b380-b22887977404"
      },
      "execution_count": 14,
      "outputs": [
        {
          "output_type": "stream",
          "name": "stdout",
          "text": [
            "Mehedi\n"
          ]
        }
      ]
    },
    {
      "cell_type": "code",
      "source": [
        " #Global vs #Local\n",
        "x = 1000\n",
        "def func1():\n",
        "  x = 50 #Local\n",
        "  print(\"My num is:\", x)\n",
        "func1()\n",
        "print('My num is: ', x)"
      ],
      "metadata": {
        "colab": {
          "base_uri": "https://localhost:8080/"
        },
        "id": "1lD-SzvEjWlt",
        "outputId": "6c8bd85d-43e8-4157-abc1-b5f26c27caa1"
      },
      "execution_count": 19,
      "outputs": [
        {
          "output_type": "stream",
          "name": "stdout",
          "text": [
            "My num is: 50\n",
            "My num is:  1000\n"
          ]
        }
      ]
    },
    {
      "cell_type": "code",
      "source": [
        "def func1():\n",
        "  x = 50 #Local\n",
        "  print(\"My num is:\", x)\n",
        "func1()\n",
        "print('My num is: ', x) #This line will not be print"
      ],
      "metadata": {
        "colab": {
          "base_uri": "https://localhost:8080/"
        },
        "id": "R-R-pcbOmGFa",
        "outputId": "14c3b445-a1e8-474b-b6c4-d10ead52acc7"
      },
      "execution_count": 20,
      "outputs": [
        {
          "output_type": "stream",
          "name": "stdout",
          "text": [
            "My num is: 50\n",
            "My num is:  1000\n"
          ]
        }
      ]
    }
  ]
}