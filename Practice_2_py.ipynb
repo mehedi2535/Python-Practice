{
  "cells": [
    {
      "cell_type": "markdown",
      "metadata": {
        "id": "view-in-github",
        "colab_type": "text"
      },
      "source": [
        "<a href=\"https://colab.research.google.com/github/mehedi2535/Python-Practice/blob/main/Practice_2_py.ipynb\" target=\"_parent\"><img src=\"https://colab.research.google.com/assets/colab-badge.svg\" alt=\"Open In Colab\"/></a>"
      ]
    },
    {
      "cell_type": "code",
      "execution_count": null,
      "metadata": {
        "colab": {
          "base_uri": "https://localhost:8080/"
        },
        "id": "XMitpiogKiF7",
        "outputId": "71313970-29e8-4a36-cf2d-2f1b7206c5d5"
      },
      "outputs": [
        {
          "name": "stdout",
          "output_type": "stream",
          "text": [
            "Enter your name:hh\n",
            "Age:12\n",
            "Access denied!\n"
          ]
        }
      ],
      "source": [
        "Name = input('Enter your name:')\n",
        "\n",
        "Age =int(input('Age:'))\n",
        "if Age> 18:\n",
        "  print('Access the key!')\n",
        "else:\n",
        "  print('Access denied!')\n"
      ]
    },
    {
      "cell_type": "code",
      "execution_count": null,
      "metadata": {
        "colab": {
          "base_uri": "https://localhost:8080/"
        },
        "id": "pKSC0Cc2Rbzy",
        "outputId": "12b0a1aa-9d8b-4b69-a0b6-c53525dad0ec"
      },
      "outputs": [
        {
          "name": "stdout",
          "output_type": "stream",
          "text": [
            "True\n",
            "<class 'bool'>\n"
          ]
        }
      ],
      "source": [
        "a =  True\n",
        "print(a)\n",
        "print(type(a))"
      ]
    },
    {
      "cell_type": "code",
      "execution_count": null,
      "metadata": {
        "colab": {
          "base_uri": "https://localhost:8080/"
        },
        "id": "E9vBNzs6Su8N",
        "outputId": "e73e32f8-6947-473c-ac23-9b01f36faa29"
      },
      "outputs": [
        {
          "name": "stdout",
          "output_type": "stream",
          "text": [
            "2 6\n"
          ]
        }
      ],
      "source": [
        "#sawping\n",
        "# a = 10\n",
        "# b = 5\n",
        "\n",
        "a, b =2, 6\n",
        "print(a,b)"
      ]
    },
    {
      "cell_type": "code",
      "execution_count": null,
      "metadata": {
        "colab": {
          "base_uri": "https://localhost:8080/"
        },
        "id": "bTIC2LSYUnj-",
        "outputId": "2f186f43-bc17-4f16-bbcf-ec8551bd2af2"
      },
      "outputs": [
        {
          "name": "stdout",
          "output_type": "stream",
          "text": [
            "M\n",
            "Meh\n",
            "ehedi\n",
            "Mehed\n",
            "ehed\n"
          ]
        }
      ],
      "source": [
        "#String\n",
        "a = \"Mehedi\"\n",
        "print(a[0])\n",
        "\n",
        "print(a[0:3]) #For calculate range(last num -1)\n",
        "\n",
        "print(a[1:])\n",
        "\n",
        "print(a[0:-1])\n",
        "\n",
        "print(a[-5:-1])\n",
        "\n"
      ]
    },
    {
      "cell_type": "code",
      "execution_count": null,
      "metadata": {
        "colab": {
          "base_uri": "https://localhost:8080/"
        },
        "id": "nTtzCk289r05",
        "outputId": "a2d2820e-7740-4194-8447-d23e7681f13f"
      },
      "outputs": [
        {
          "name": "stdout",
          "output_type": "stream",
          "text": [
            "rl\n"
          ]
        }
      ],
      "source": [
        "a = \"Hello World\"\n",
        "print(a[-3:-1])\n"
      ]
    },
    {
      "cell_type": "code",
      "execution_count": null,
      "metadata": {
        "colab": {
          "base_uri": "https://localhost:8080/"
        },
        "id": "xccIwJLXLL2N",
        "outputId": "96147284-1c5d-4f59-fffc-02eadf1ec318"
      },
      "outputs": [
        {
          "name": "stdout",
          "output_type": "stream",
          "text": [
            "JamesJamesJamesJamesJamesJames\n"
          ]
        }
      ],
      "source": [
        "#Assignment_OSTAD_2m\n",
        "\n",
        "var = \"James\" * 2  * 3\n",
        "\n",
        "print(var)"
      ]
    },
    {
      "cell_type": "code",
      "execution_count": null,
      "metadata": {
        "colab": {
          "base_uri": "https://localhost:8080/"
        },
        "id": "o1W0p6sv0IfC",
        "outputId": "d935b396-f45c-4fe6-c394-111896952506"
      },
      "outputs": [
        {
          "name": "stdout",
          "output_type": "stream",
          "text": [
            "2\n"
          ]
        }
      ],
      "source": [
        "print(2%6)"
      ]
    },
    {
      "cell_type": "code",
      "execution_count": null,
      "metadata": {
        "colab": {
          "base_uri": "https://localhost:8080/"
        },
        "id": "XHIfJJGQ2VPU",
        "outputId": "04973256-e4bc-4b25-d4b0-e6fdcf10475f"
      },
      "outputs": [
        {
          "name": "stdout",
          "output_type": "stream",
          "text": [
            "2\n"
          ]
        }
      ],
      "source": [
        "print(10 - 4 * 2)"
      ]
    },
    {
      "cell_type": "code",
      "execution_count": null,
      "metadata": {
        "colab": {
          "base_uri": "https://localhost:8080/"
        },
        "id": "gMbV5gGS2hmV",
        "outputId": "f67b214f-a8de-45a4-bce4-1a088f277769"
      },
      "outputs": [
        {
          "name": "stdout",
          "output_type": "stream",
          "text": [
            "16\n"
          ]
        }
      ],
      "source": [
        "print(2**2**2)"
      ]
    },
    {
      "cell_type": "code",
      "execution_count": null,
      "metadata": {
        "id": "rZc3-XINZzkv"
      },
      "outputs": [],
      "source": [
        "\n",
        "sum = 0\n",
        "while sum < 100:\n",
        "  print(sum)\n",
        "  sum= sum + 1\n",
        "\n"
      ]
    },
    {
      "cell_type": "code",
      "execution_count": null,
      "metadata": {
        "id": "HuHZlqJ7cyZk"
      },
      "outputs": [],
      "source": [
        "# Sum all the odd numbers from 0 to 100 and print it to the screen.\n",
        "\n",
        "sum = 0\n",
        "while sum < 100:\n",
        "   print(sum)\n",
        "   sum = sum+1"
      ]
    },
    {
      "cell_type": "code",
      "source": [
        "counter = 0\n",
        "while counter <= 10:\n",
        "  print(\"You should focus on what you dreamed about!\", counter)\n",
        "  counter +=1 #counter = counter +1"
      ],
      "metadata": {
        "id": "2y6sm3IeObwH"
      },
      "execution_count": null,
      "outputs": []
    },
    {
      "cell_type": "code",
      "source": [],
      "metadata": {
        "id": "q769UnrtP9i4"
      },
      "execution_count": null,
      "outputs": []
    },
    {
      "cell_type": "code",
      "execution_count": null,
      "metadata": {
        "id": "VDCNQKJVeAWi"
      },
      "outputs": [],
      "source": [
        "sum = 0\n",
        "while sum <100:\n",
        "  sum+= 1\n",
        "  if sum % 2 == 1:\n",
        "    print(sum)\n",
        "\n"
      ]
    },
    {
      "cell_type": "code",
      "source": [
        "sum = 0\n",
        "while sum <100:\n",
        "  sum+= 1\n",
        "  if sum % 2 != 0:\n",
        "    print(sum)\n",
        "\n"
      ],
      "metadata": {
        "id": "jYXhWHSKQ60D"
      },
      "execution_count": null,
      "outputs": []
    },
    {
      "cell_type": "code",
      "source": [
        "# DS Live quiz-1\n",
        "# Write a Program to take a user score and\n",
        "# find a student's grade using Python code. Following is the grade information.\n",
        "\n",
        "\n",
        "num= int(input('Your Score:'))\n",
        "if num< 40 :\n",
        "  print(\"Your grade is: F\")\n",
        "elif num in range(40,50):\n",
        "  print(\"Your grade is: E-\")\n",
        "elif num in range(50,60):\n",
        "  print(\"Your grade is: E\")\n",
        "elif num in range(60,70):\n",
        "  print(\"Your grade is: D\")\n",
        "elif num in range(70,80):\n",
        "  print(\"Your grade is: C\")\n",
        "elif num in range(80,90):\n",
        "  print(\"Your grade is: B\")\n",
        "elif num in range(90,101):\n",
        "  print(\"Your grade is: A\")\n",
        "else:\n",
        "  print(\"Don't make FUN! Write the accurate number:v\")"
      ],
      "metadata": {
        "colab": {
          "base_uri": "https://localhost:8080/"
        },
        "id": "W6YOyyysSzuj",
        "outputId": "7eaaa66f-bf17-46a1-b441-09f0f3af4fc9"
      },
      "execution_count": 69,
      "outputs": [
        {
          "output_type": "stream",
          "name": "stdout",
          "text": [
            "Your Score:22\n",
            "Your grade is: F\n"
          ]
        }
      ]
    }
  ],
  "metadata": {
    "colab": {
      "provenance": [],
      "authorship_tag": "ABX9TyNEkx9RAj0txRPWxGSp7Nd0",
      "include_colab_link": true
    },
    "kernelspec": {
      "display_name": "Python 3",
      "name": "python3"
    },
    "language_info": {
      "name": "python"
    }
  },
  "nbformat": 4,
  "nbformat_minor": 0
}